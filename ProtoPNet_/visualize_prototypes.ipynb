{
 "cells": [
  {
   "cell_type": "code",
   "execution_count": 11,
   "metadata": {},
   "outputs": [],
   "source": [
    "def numpy_to_letter(array):\n",
    "    base_pairs = []\n",
    "    for i in range(array.shape[-1]):\n",
    "        if array[0, i] == 1:\n",
    "            base_pairs.append('A')\n",
    "        elif array[1, i] == 1:\n",
    "            base_pairs.append('T')\n",
    "        elif array[2, i] == 1:\n",
    "            base_pairs.append('C')\n",
    "        elif array[3, i] == 1:\n",
    "            base_pairs.append('G')\n",
    "        else:\n",
    "            base_pairs.append('_')\n",
    "    return base_pairs"
   ]
  },
  {
   "cell_type": "code",
   "execution_count": 26,
   "metadata": {},
   "outputs": [
    {
     "name": "stdout",
     "output_type": "stream",
     "text": [
      "[]\n"
     ]
    }
   ],
   "source": [
    "import numpy as np\n",
    "a = np.load('saved_models/base_feature/good_push_fixed_save/seq/epoch-200/prototype_0_patch.npy')\n",
    "print(a)"
   ]
  },
  {
   "cell_type": "code",
   "execution_count": 17,
   "metadata": {},
   "outputs": [
    {
     "data": {
      "text/plain": [
       "['_', '_', '_', '_', '_']"
      ]
     },
     "execution_count": 17,
     "metadata": {},
     "output_type": "execute_result"
    }
   ],
   "source": [
    "numpy_to_letter(a[5])"
   ]
  },
  {
   "cell_type": "code",
   "execution_count": null,
   "metadata": {},
   "outputs": [],
   "source": []
  }
 ],
 "metadata": {
  "interpreter": {
   "hash": "dfaf21764d41aa2fdef539c3ac18abe637f406e516a05ccee4c391188bee82e6"
  },
  "kernelspec": {
   "display_name": "Python 3.6.9 ('torch-env')",
   "language": "python",
   "name": "python3"
  },
  "language_info": {
   "codemirror_mode": {
    "name": "ipython",
    "version": 3
   },
   "file_extension": ".py",
   "mimetype": "text/x-python",
   "name": "python",
   "nbconvert_exporter": "python",
   "pygments_lexer": "ipython3",
   "version": "3.6.9"
  },
  "orig_nbformat": 4
 },
 "nbformat": 4,
 "nbformat_minor": 2
}
